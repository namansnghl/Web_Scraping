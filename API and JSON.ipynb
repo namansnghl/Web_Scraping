{
 "cells": [
  {
   "cell_type": "markdown",
   "id": "dd61d444",
   "metadata": {},
   "source": [
    "The Open Directions API provides a free web service that returns JSON-formatted driving\n",
    "directions between locations. Description of the service and its parameters can be found at\n",
    "https://developer.mapquest.com/documentation/directions-api.\n",
    "In order to use the service, you will first need to obtain a free API key from https://developer.mapquest.com.\n",
    "<br>We will write a Python program that gets from the user an origin and a destination location, and\n",
    "displays the driving instructions to get from the origin to the destination. For each leg of the\n",
    "route, we show the driving instruction, distance and time"
   ]
  },
  {
   "cell_type": "code",
   "execution_count": 1,
   "id": "10ad932e",
   "metadata": {},
   "outputs": [],
   "source": [
    "import pandas as pd\n",
    "import requests"
   ]
  },
  {
   "cell_type": "code",
   "execution_count": 2,
   "id": "b56e0dc7",
   "metadata": {},
   "outputs": [],
   "source": [
    "KEY = r'7WWZlGjzlrGmM8k5hZgqwskoTPXvrWvP'"
   ]
  },
  {
   "cell_type": "code",
   "execution_count": 3,
   "id": "ba852585",
   "metadata": {},
   "outputs": [
    {
     "name": "stdout",
     "output_type": "stream",
     "text": [
      "Where do you want to got from? Clarendon Blvd,Arlington,VA\n",
      "Your Destination? 2400+S+Glebe+Rd,+Arlington,+VA\n"
     ]
    }
   ],
   "source": [
    "frm = input(\"Where do you want to got from? \")# \"Clarendon Blvd,Arlington,VA\"\n",
    "to = input(\"Your Destination? \") #\"2400+S+Glebe+Rd,+Arlington,+VA\""
   ]
  },
  {
   "cell_type": "code",
   "execution_count": 4,
   "id": "0317a18b",
   "metadata": {},
   "outputs": [],
   "source": [
    "url = f\"https://www.mapquestapi.com/directions/v2/route?key={KEY}&from={frm}&to={to}\"\n",
    "response = requests.get(url)\n",
    "all_legs = response.json()['route']['legs']"
   ]
  },
  {
   "cell_type": "code",
   "execution_count": 5,
   "id": "e27332d9",
   "metadata": {},
   "outputs": [],
   "source": [
    "filtered_leg = {'INSTRUCTION': [], 'DISTANCE (MI)': [], 'TIME (s)': []}"
   ]
  },
  {
   "cell_type": "code",
   "execution_count": 6,
   "id": "7862a48e",
   "metadata": {},
   "outputs": [],
   "source": [
    "for leg in all_legs:\n",
    "    for route in leg['maneuvers']:\n",
    "        filtered_leg['DISTANCE (MI)'].append(route['distance'])\n",
    "        filtered_leg['TIME (s)'].append(route['time'])\n",
    "        filtered_leg['INSTRUCTION'].append(route['narrative'])"
   ]
  },
  {
   "cell_type": "code",
   "execution_count": 7,
   "id": "bc16debc",
   "metadata": {},
   "outputs": [
    {
     "data": {
      "text/html": [
       "<div>\n",
       "<style scoped>\n",
       "    .dataframe tbody tr th:only-of-type {\n",
       "        vertical-align: middle;\n",
       "    }\n",
       "\n",
       "    .dataframe tbody tr th {\n",
       "        vertical-align: top;\n",
       "    }\n",
       "\n",
       "    .dataframe thead th {\n",
       "        text-align: right;\n",
       "    }\n",
       "</style>\n",
       "<table border=\"1\" class=\"dataframe\">\n",
       "  <thead>\n",
       "    <tr style=\"text-align: right;\">\n",
       "      <th></th>\n",
       "      <th>INSTRUCTION</th>\n",
       "      <th>DISTANCE (MI)</th>\n",
       "      <th>TIME (s)</th>\n",
       "    </tr>\n",
       "  </thead>\n",
       "  <tbody>\n",
       "    <tr>\n",
       "      <th>0</th>\n",
       "      <td>Head toward N Uhle St on Clarendon Blvd. Go fo...</td>\n",
       "      <td>0.0963</td>\n",
       "      <td>40</td>\n",
       "    </tr>\n",
       "    <tr>\n",
       "      <th>1</th>\n",
       "      <td>Turn right onto N Courthouse Rd. Go for 0.3 mi.</td>\n",
       "      <td>0.2821</td>\n",
       "      <td>77</td>\n",
       "    </tr>\n",
       "    <tr>\n",
       "      <th>2</th>\n",
       "      <td>Take ramp onto Arlington Blvd (US-50 W). Go fo...</td>\n",
       "      <td>1.1943</td>\n",
       "      <td>183</td>\n",
       "    </tr>\n",
       "    <tr>\n",
       "      <th>3</th>\n",
       "      <td>Turn left onto S Fillmore St. Go for 0.4 mi.</td>\n",
       "      <td>0.3853</td>\n",
       "      <td>73</td>\n",
       "    </tr>\n",
       "    <tr>\n",
       "      <th>4</th>\n",
       "      <td>Continue on S Walter Reed Dr. Go for 0.9 mi.</td>\n",
       "      <td>0.8979</td>\n",
       "      <td>198</td>\n",
       "    </tr>\n",
       "    <tr>\n",
       "      <th>5</th>\n",
       "      <td>Turn slightly left onto S Glebe Rd (VA-120). G...</td>\n",
       "      <td>0.5996</td>\n",
       "      <td>94</td>\n",
       "    </tr>\n",
       "    <tr>\n",
       "      <th>6</th>\n",
       "      <td>Turn right. Go for 167 ft.</td>\n",
       "      <td>0.0317</td>\n",
       "      <td>18</td>\n",
       "    </tr>\n",
       "    <tr>\n",
       "      <th>7</th>\n",
       "      <td>Arrive at your destination.</td>\n",
       "      <td>0.0000</td>\n",
       "      <td>0</td>\n",
       "    </tr>\n",
       "  </tbody>\n",
       "</table>\n",
       "</div>"
      ],
      "text/plain": [
       "                                         INSTRUCTION  DISTANCE (MI)  TIME (s)\n",
       "0  Head toward N Uhle St on Clarendon Blvd. Go fo...         0.0963        40\n",
       "1    Turn right onto N Courthouse Rd. Go for 0.3 mi.         0.2821        77\n",
       "2  Take ramp onto Arlington Blvd (US-50 W). Go fo...         1.1943       183\n",
       "3       Turn left onto S Fillmore St. Go for 0.4 mi.         0.3853        73\n",
       "4       Continue on S Walter Reed Dr. Go for 0.9 mi.         0.8979       198\n",
       "5  Turn slightly left onto S Glebe Rd (VA-120). G...         0.5996        94\n",
       "6                         Turn right. Go for 167 ft.         0.0317        18\n",
       "7                        Arrive at your destination.         0.0000         0"
      ]
     },
     "execution_count": 7,
     "metadata": {},
     "output_type": "execute_result"
    }
   ],
   "source": [
    "pd.DataFrame(filtered_leg)"
   ]
  }
 ],
 "metadata": {
  "kernelspec": {
   "display_name": "Python 3 (ipykernel)",
   "language": "python",
   "name": "python3"
  },
  "language_info": {
   "codemirror_mode": {
    "name": "ipython",
    "version": 3
   },
   "file_extension": ".py",
   "mimetype": "text/x-python",
   "name": "python",
   "nbconvert_exporter": "python",
   "pygments_lexer": "ipython3",
   "version": "3.11.5"
  }
 },
 "nbformat": 4,
 "nbformat_minor": 5
}
