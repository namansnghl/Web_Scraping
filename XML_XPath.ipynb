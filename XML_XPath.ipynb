{
 "cells": [
  {
   "cell_type": "markdown",
   "id": "9d68bad8",
   "metadata": {},
   "source": [
    "Python program to read the XML file and display a table with the title of each\n",
    "recipe, the names of its ingredients, and the number of calories."
   ]
  },
  {
   "cell_type": "code",
   "execution_count": 1,
   "id": "0f490a22",
   "metadata": {},
   "outputs": [],
   "source": [
    "import xml.etree.ElementTree as ET\n",
    "import pandas as pd\n",
    "from lxml import etree"
   ]
  },
  {
   "cell_type": "code",
   "execution_count": 2,
   "id": "36539707",
   "metadata": {},
   "outputs": [],
   "source": [
    "tree = ET.parse('recipes.xml')\n",
    "root = tree.getroot()"
   ]
  },
  {
   "cell_type": "code",
   "execution_count": 3,
   "id": "e9bef926",
   "metadata": {},
   "outputs": [],
   "source": [
    "recipes = []\n",
    "\n",
    "for child in root[1:]:\n",
    "    name = child.findtext('title')\n",
    "    ingredients = \"||\".join(map(lambda tag: tag.attrib.get('name'),child.findall('ingredient')))\n",
    "    calorie = child.find('nutrition').attrib.get('calories')\n",
    "    recipes.append([name, ingredients, calorie])"
   ]
  },
  {
   "cell_type": "code",
   "execution_count": 4,
   "id": "0ff824c8",
   "metadata": {},
   "outputs": [],
   "source": [
    "recipes_data = pd.DataFrame(recipes, columns=['Title', 'Ingredients', 'Calories'])"
   ]
  },
  {
   "cell_type": "code",
   "execution_count": 5,
   "id": "3f5c4c0c",
   "metadata": {
    "scrolled": true
   },
   "outputs": [
    {
     "data": {
      "text/html": [
       "<div>\n",
       "<style scoped>\n",
       "    .dataframe tbody tr th:only-of-type {\n",
       "        vertical-align: middle;\n",
       "    }\n",
       "\n",
       "    .dataframe tbody tr th {\n",
       "        vertical-align: top;\n",
       "    }\n",
       "\n",
       "    .dataframe thead th {\n",
       "        text-align: right;\n",
       "    }\n",
       "</style>\n",
       "<table border=\"1\" class=\"dataframe\">\n",
       "  <thead>\n",
       "    <tr style=\"text-align: right;\">\n",
       "      <th></th>\n",
       "      <th>Title</th>\n",
       "      <th>Ingredients</th>\n",
       "      <th>Calories</th>\n",
       "    </tr>\n",
       "  </thead>\n",
       "  <tbody>\n",
       "    <tr>\n",
       "      <th>0</th>\n",
       "      <td>Beef Parmesan with Garlic Angel Hair Pasta</td>\n",
       "      <td>beef cube steak||onion, sliced into thin rings...</td>\n",
       "      <td>1167</td>\n",
       "    </tr>\n",
       "    <tr>\n",
       "      <th>1</th>\n",
       "      <td>Ricotta Pie</td>\n",
       "      <td>filling||dough||milk</td>\n",
       "      <td>349</td>\n",
       "    </tr>\n",
       "    <tr>\n",
       "      <th>2</th>\n",
       "      <td>Linguine Pescadoro</td>\n",
       "      <td>linguini pasta||sauce</td>\n",
       "      <td>532</td>\n",
       "    </tr>\n",
       "    <tr>\n",
       "      <th>3</th>\n",
       "      <td>Zuppa Inglese</td>\n",
       "      <td>egg yolks||milk||Savoiardi biscuits||sugar||Al...</td>\n",
       "      <td>612</td>\n",
       "    </tr>\n",
       "    <tr>\n",
       "      <th>4</th>\n",
       "      <td>Cailles en Sarcophages</td>\n",
       "      <td>pastry||filling||package phyllo dough||egg whi...</td>\n",
       "      <td>8892</td>\n",
       "    </tr>\n",
       "  </tbody>\n",
       "</table>\n",
       "</div>"
      ],
      "text/plain": [
       "                                        Title  \\\n",
       "0  Beef Parmesan with Garlic Angel Hair Pasta   \n",
       "1                                 Ricotta Pie   \n",
       "2                          Linguine Pescadoro   \n",
       "3                               Zuppa Inglese   \n",
       "4                      Cailles en Sarcophages   \n",
       "\n",
       "                                         Ingredients Calories  \n",
       "0  beef cube steak||onion, sliced into thin rings...     1167  \n",
       "1                               filling||dough||milk      349  \n",
       "2                              linguini pasta||sauce      532  \n",
       "3  egg yolks||milk||Savoiardi biscuits||sugar||Al...      612  \n",
       "4  pastry||filling||package phyllo dough||egg whi...     8892  "
      ]
     },
     "execution_count": 5,
     "metadata": {},
     "output_type": "execute_result"
    }
   ],
   "source": [
    "recipes_data.head()"
   ]
  },
  {
   "cell_type": "markdown",
   "id": "d518edf8",
   "metadata": {},
   "source": [
    "Working with XPath"
   ]
  },
  {
   "cell_type": "code",
   "execution_count": 6,
   "id": "8057acbc",
   "metadata": {},
   "outputs": [],
   "source": [
    "tree = etree.parse('recipes.xml')"
   ]
  },
  {
   "cell_type": "code",
   "execution_count": 7,
   "id": "b88c636d",
   "metadata": {},
   "outputs": [
    {
     "data": {
      "text/plain": [
       "['Beef Parmesan with Garlic Angel Hair Pasta',\n",
       " 'Ricotta Pie',\n",
       " 'Linguine Pescadoro',\n",
       " 'Zuppa Inglese',\n",
       " 'Cailles en Sarcophages']"
      ]
     },
     "execution_count": 7,
     "metadata": {},
     "output_type": "execute_result"
    }
   ],
   "source": [
    "# Find the titles of all recipes.\n",
    "tree.xpath('/collection/recipe/title/text()')"
   ]
  },
  {
   "cell_type": "code",
   "execution_count": 8,
   "id": "4f366c10",
   "metadata": {},
   "outputs": [
    {
     "name": "stdout",
     "output_type": "stream",
     "text": [
      "['Beef Parmesan with Garlic Angel Hair Pasta']\n"
     ]
    }
   ],
   "source": [
    "# Find the titles of recipes that use olive oil.\n",
    "xpath_Ingredients = '/collection/recipe[%s]/ingredient/@name'\n",
    "xpath_title = '/collection/recipe[%s]/title/text()'\n",
    "count = len(tree.xpath('/collection/recipe'))\n",
    "\n",
    "for i in range(count):\n",
    "    if any(['OLIVE OIL' == item.upper() for item in tree.xpath(xpath_Ingredients.replace('%s', str(i)))]):\n",
    "            print(tree.xpath(xpath_title.replace('%s', str(i))))"
   ]
  },
  {
   "cell_type": "code",
   "execution_count": 9,
   "id": "b69488d0",
   "metadata": {},
   "outputs": [
    {
     "name": "stdout",
     "output_type": "stream",
     "text": [
      "Ricotta Pie\n"
     ]
    }
   ],
   "source": [
    "# Find the titles of all recipes with less than 500 calories.\n",
    "title = tree.xpath('/collection/recipe/title/text()')\n",
    "calories = tree.xpath('/collection/recipe/nutrition/@calories')\n",
    "\n",
    "for i in range(len(calories)):\n",
    "    if int(calories[i])<500:\n",
    "        print(title[i])"
   ]
  },
  {
   "cell_type": "code",
   "execution_count": 10,
   "id": "7c2a7356",
   "metadata": {},
   "outputs": [
    {
     "data": {
      "text/plain": [
       "['0.75', 'cup']"
      ]
     },
     "execution_count": 10,
     "metadata": {},
     "output_type": "execute_result"
    }
   ],
   "source": [
    "# Find the amount of sugar needed for Zuppa Inglese.\n",
    "get_amt = \"//*/title[text()='Zuppa Inglese']/following-sibling::ingredient[@name='sugar']/@amount\"\n",
    "get_unit = \"//*/title[text()='Zuppa Inglese']/following-sibling::ingredient[@name='sugar']/@unit\"\n",
    "tree.xpath(f\"{get_amt} | {get_unit}\")"
   ]
  },
  {
   "cell_type": "code",
   "execution_count": 11,
   "id": "79b1036d",
   "metadata": {},
   "outputs": [
    {
     "name": "stdout",
     "output_type": "stream",
     "text": [
      "Beef Parmesan with Garlic Angel Hair Pasta\n"
     ]
    }
   ],
   "source": [
    "# Find the titles of all recipes that require 4 steps.\n",
    "for recipe in tree.xpath(\"//*/recipe\"):\n",
    "    if len(recipe.xpath(\".//step\"))==4:\n",
    "        print(recipe.xpath(\"./title/text()\")[0])"
   ]
  },
  {
   "cell_type": "code",
   "execution_count": 12,
   "id": "57039882",
   "metadata": {},
   "outputs": [
    {
     "data": {
      "text/plain": [
       "'ricotta cheese,eggs,white sugar,vanilla extract,semisweet chocolate chips,flour,baking powder,white sugar,shortening,eggs, lightly beaten,vanilla extract,olive oil,minced cloves of garlic,Italian seasoning,dried thyme,crushed red pepper flakes,crushed tomatoes,black olives, drained,whole baby clams,minced clams, with juice,small salad shrimp,scallops,lemon zest,salt,ground black pepper,chilled unsalted butter,flour,salt,ice water,baked chicken,marinated chicken,small chickens, cut up,Herbes de Provence,dry white wine,orange juice,minced garlic,truffle oil,stock,chicken wings, giblets, and kidney,onions, peeled,carrots, peeled and cut lengthwise,celery, cut lengthwise,bay leaf,small bunch parsley,whole peppercorns,salt,sauteed mushrooms,white button mushrooms,butter,dry white wine,minced garlic,minced shallots,sauce,chicken juices,mushroom juices,sherry,flour,butter'"
      ]
     },
     "execution_count": 12,
     "metadata": {},
     "output_type": "execute_result"
    }
   ],
   "source": [
    "# Find the names of all item that are used to make other ingredients.\n",
    "\",\".join(tree.xpath(\"//*/recipe/ingredient//ingredient/@name\"))"
   ]
  },
  {
   "cell_type": "code",
   "execution_count": 13,
   "id": "0d6cbc1e",
   "metadata": {},
   "outputs": [
    {
     "data": {
      "text/plain": [
       "['filling',\n",
       " 'dough',\n",
       " 'sauce',\n",
       " 'pastry',\n",
       " 'filling',\n",
       " 'baked chicken',\n",
       " 'marinated chicken',\n",
       " 'stock',\n",
       " 'sauteed mushrooms',\n",
       " 'sauce']"
      ]
     },
     "execution_count": 13,
     "metadata": {},
     "output_type": "execute_result"
    }
   ],
   "source": [
    "# Find the names of all item for which you need other ingredients.\n",
    "tree.xpath(\"//ingredient[ingredient]/@name\")"
   ]
  },
  {
   "cell_type": "code",
   "execution_count": 14,
   "id": "aec84845",
   "metadata": {},
   "outputs": [
    {
     "name": "stdout",
     "output_type": "stream",
     "text": [
      "['beef cube steak', 'onion, sliced into thin rings', 'green bell pepper, sliced in rings']\n",
      "['filling', 'dough', 'milk']\n",
      "['linguini pasta', 'sauce']\n",
      "['egg yolks', 'milk', 'Savoiardi biscuits']\n",
      "['pastry', 'filling', 'package phyllo dough']\n"
     ]
    }
   ],
   "source": [
    "# Find the names of the first three ingredients in each recipe.\n",
    "for recipe in tree.xpath(\"//*/recipe\"):\n",
    "    print(recipe.xpath(\"./ingredient/@name\")[:3])"
   ]
  },
  {
   "cell_type": "code",
   "execution_count": null,
   "id": "d72b700e",
   "metadata": {},
   "outputs": [],
   "source": []
  }
 ],
 "metadata": {
  "kernelspec": {
   "display_name": "Python 3 (ipykernel)",
   "language": "python",
   "name": "python3"
  },
  "language_info": {
   "codemirror_mode": {
    "name": "ipython",
    "version": 3
   },
   "file_extension": ".py",
   "mimetype": "text/x-python",
   "name": "python",
   "nbconvert_exporter": "python",
   "pygments_lexer": "ipython3",
   "version": "3.11.5"
  }
 },
 "nbformat": 4,
 "nbformat_minor": 5
}
