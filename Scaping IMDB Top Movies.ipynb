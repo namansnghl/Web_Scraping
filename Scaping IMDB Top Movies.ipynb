{
 "cells": [
  {
   "cell_type": "markdown",
   "id": "3f7dddaf",
   "metadata": {},
   "source": [
    "### Web Scraping\n",
    "Python program to download IMDB’s top 250 movies from https://www.imdb.com/search/title/?groups=top_100&sort=user_rating,desc chart/top and load them into a DataFrame. For each movie we will scrape its title, director name, list of actors, release year, and IMDB rating."
   ]
  },
  {
   "cell_type": "code",
   "execution_count": 1,
   "id": "27e7a777",
   "metadata": {
    "tags": []
   },
   "outputs": [],
   "source": [
    "import requests\n",
    "from bs4 import BeautifulSoup\n",
    "import pandas as pd"
   ]
  },
  {
   "cell_type": "code",
   "execution_count": 2,
   "id": "b65661ce",
   "metadata": {
    "tags": []
   },
   "outputs": [],
   "source": [
    "# Modified the URL to get top_250 and get them all in a single page\n",
    "url = r'https://www.imdb.com/search/title/?groups=top_250&sort=user_rating,desc&count=250'"
   ]
  },
  {
   "cell_type": "code",
   "execution_count": 3,
   "id": "237e61a2",
   "metadata": {
    "tags": []
   },
   "outputs": [],
   "source": [
    "html = requests.get(url)"
   ]
  },
  {
   "cell_type": "code",
   "execution_count": 4,
   "id": "90e01384",
   "metadata": {
    "tags": []
   },
   "outputs": [],
   "source": [
    "soup = BeautifulSoup(html.content, \"html.parser\")"
   ]
  },
  {
   "cell_type": "code",
   "execution_count": 5,
   "id": "0152f054",
   "metadata": {
    "tags": []
   },
   "outputs": [],
   "source": [
    "top_250_html = soup.find_all(name='div',attrs={\"class\":\"lister-item-content\"}, limit=250)"
   ]
  },
  {
   "cell_type": "code",
   "execution_count": 6,
   "id": "51b8986e",
   "metadata": {
    "tags": []
   },
   "outputs": [],
   "source": [
    "headers = ['TITLE', 'RELEASE_YEAR', 'RATING', 'DIRECTOR', 'ACTORS']\n",
    "scraped_250_movie_dct = {}\n",
    "for head in headers:\n",
    "    scraped_250_movie_dct[head] = []"
   ]
  },
  {
   "cell_type": "code",
   "execution_count": 7,
   "id": "cf1a1fe1",
   "metadata": {
    "tags": []
   },
   "outputs": [],
   "source": [
    "for movie in top_250_html:\n",
    "    movie = BeautifulSoup(str(movie), \"html.parser\")\n",
    "    title = movie.h3.a.text\n",
    "    year = movie.h3.find_all('span')[1].text\n",
    "    rating = movie.find('div', {\"class\":\"inline-block ratings-imdb-rating\"}).strong.text\n",
    "    cast = movie.find('p', {\"class\":\"\"}).find_all(name='a')\n",
    "    director = cast[0].text\n",
    "    actors = \",\".join(list(map(lambda x: x.text, cast[1:])))\n",
    "    \n",
    "    scraped_250_movie_dct[headers[0]].append(title)\n",
    "    scraped_250_movie_dct[headers[1]].append(year)\n",
    "    scraped_250_movie_dct[headers[2]].append(rating)\n",
    "    scraped_250_movie_dct[headers[3]].append(director)\n",
    "    scraped_250_movie_dct[headers[4]].append(actors)"
   ]
  },
  {
   "cell_type": "code",
   "execution_count": 8,
   "id": "a6abb062",
   "metadata": {
    "scrolled": true,
    "tags": []
   },
   "outputs": [
    {
     "data": {
      "text/html": [
       "<div>\n",
       "<style scoped>\n",
       "    .dataframe tbody tr th:only-of-type {\n",
       "        vertical-align: middle;\n",
       "    }\n",
       "\n",
       "    .dataframe tbody tr th {\n",
       "        vertical-align: top;\n",
       "    }\n",
       "\n",
       "    .dataframe thead th {\n",
       "        text-align: right;\n",
       "    }\n",
       "</style>\n",
       "<table border=\"1\" class=\"dataframe\">\n",
       "  <thead>\n",
       "    <tr style=\"text-align: right;\">\n",
       "      <th></th>\n",
       "      <th>TITLE</th>\n",
       "      <th>RELEASE_YEAR</th>\n",
       "      <th>RATING</th>\n",
       "      <th>DIRECTOR</th>\n",
       "      <th>ACTORS</th>\n",
       "    </tr>\n",
       "  </thead>\n",
       "  <tbody>\n",
       "    <tr>\n",
       "      <th>0</th>\n",
       "      <td>The Shawshank Redemption</td>\n",
       "      <td>(1994)</td>\n",
       "      <td>9.3</td>\n",
       "      <td>Frank Darabont</td>\n",
       "      <td>Tim Robbins,Morgan Freeman,Bob Gunton,William ...</td>\n",
       "    </tr>\n",
       "  </tbody>\n",
       "</table>\n",
       "</div>"
      ],
      "text/plain": [
       "                      TITLE RELEASE_YEAR RATING        DIRECTOR  \\\n",
       "0  The Shawshank Redemption       (1994)    9.3  Frank Darabont   \n",
       "\n",
       "                                              ACTORS  \n",
       "0  Tim Robbins,Morgan Freeman,Bob Gunton,William ...  "
      ]
     },
     "execution_count": 8,
     "metadata": {},
     "output_type": "execute_result"
    }
   ],
   "source": [
    "scraped_250_movie_df = pd.DataFrame(scraped_250_movie_dct)\n",
    "scraped_250_movie_df.head(1)"
   ]
  },
  {
   "cell_type": "code",
   "execution_count": 9,
   "id": "a977ed2c",
   "metadata": {
    "tags": []
   },
   "outputs": [],
   "source": [
    "#cleaning year\n",
    "scraped_250_movie_df['RELEASE_YEAR'] = scraped_250_movie_df['RELEASE_YEAR'].apply(lambda x : x.split('(')[-1].split(')')[0])"
   ]
  },
  {
   "cell_type": "code",
   "execution_count": 10,
   "id": "b4c05a13-2531-4a27-918f-0b605790723c",
   "metadata": {
    "scrolled": true,
    "tags": []
   },
   "outputs": [
    {
     "data": {
      "text/html": [
       "<div>\n",
       "<style scoped>\n",
       "    .dataframe tbody tr th:only-of-type {\n",
       "        vertical-align: middle;\n",
       "    }\n",
       "\n",
       "    .dataframe tbody tr th {\n",
       "        vertical-align: top;\n",
       "    }\n",
       "\n",
       "    .dataframe thead th {\n",
       "        text-align: right;\n",
       "    }\n",
       "</style>\n",
       "<table border=\"1\" class=\"dataframe\">\n",
       "  <thead>\n",
       "    <tr style=\"text-align: right;\">\n",
       "      <th></th>\n",
       "      <th>TITLE</th>\n",
       "      <th>RELEASE_YEAR</th>\n",
       "      <th>RATING</th>\n",
       "      <th>DIRECTOR</th>\n",
       "      <th>ACTORS</th>\n",
       "    </tr>\n",
       "  </thead>\n",
       "  <tbody>\n",
       "    <tr>\n",
       "      <th>0</th>\n",
       "      <td>The Shawshank Redemption</td>\n",
       "      <td>1994</td>\n",
       "      <td>9.3</td>\n",
       "      <td>Frank Darabont</td>\n",
       "      <td>Tim Robbins,Morgan Freeman,Bob Gunton,William ...</td>\n",
       "    </tr>\n",
       "    <tr>\n",
       "      <th>1</th>\n",
       "      <td>The Godfather</td>\n",
       "      <td>1972</td>\n",
       "      <td>9.2</td>\n",
       "      <td>Francis Ford Coppola</td>\n",
       "      <td>Marlon Brando,Al Pacino,James Caan,Diane Keaton</td>\n",
       "    </tr>\n",
       "    <tr>\n",
       "      <th>2</th>\n",
       "      <td>The Dark Knight</td>\n",
       "      <td>2008</td>\n",
       "      <td>9.0</td>\n",
       "      <td>Christopher Nolan</td>\n",
       "      <td>Christian Bale,Heath Ledger,Aaron Eckhart,Mich...</td>\n",
       "    </tr>\n",
       "    <tr>\n",
       "      <th>3</th>\n",
       "      <td>Schindler's List</td>\n",
       "      <td>1993</td>\n",
       "      <td>9.0</td>\n",
       "      <td>Steven Spielberg</td>\n",
       "      <td>Liam Neeson,Ralph Fiennes,Ben Kingsley,Carolin...</td>\n",
       "    </tr>\n",
       "    <tr>\n",
       "      <th>4</th>\n",
       "      <td>The Lord of the Rings: The Return of the King</td>\n",
       "      <td>2003</td>\n",
       "      <td>9.0</td>\n",
       "      <td>Peter Jackson</td>\n",
       "      <td>Elijah Wood,Viggo Mortensen,Ian McKellen,Orlan...</td>\n",
       "    </tr>\n",
       "  </tbody>\n",
       "</table>\n",
       "</div>"
      ],
      "text/plain": [
       "                                           TITLE RELEASE_YEAR RATING  \\\n",
       "0                       The Shawshank Redemption         1994    9.3   \n",
       "1                                  The Godfather         1972    9.2   \n",
       "2                                The Dark Knight         2008    9.0   \n",
       "3                               Schindler's List         1993    9.0   \n",
       "4  The Lord of the Rings: The Return of the King         2003    9.0   \n",
       "\n",
       "               DIRECTOR                                             ACTORS  \n",
       "0        Frank Darabont  Tim Robbins,Morgan Freeman,Bob Gunton,William ...  \n",
       "1  Francis Ford Coppola    Marlon Brando,Al Pacino,James Caan,Diane Keaton  \n",
       "2     Christopher Nolan  Christian Bale,Heath Ledger,Aaron Eckhart,Mich...  \n",
       "3      Steven Spielberg  Liam Neeson,Ralph Fiennes,Ben Kingsley,Carolin...  \n",
       "4         Peter Jackson  Elijah Wood,Viggo Mortensen,Ian McKellen,Orlan...  "
      ]
     },
     "execution_count": 10,
     "metadata": {},
     "output_type": "execute_result"
    }
   ],
   "source": [
    "scraped_250_movie_df.head(5)"
   ]
  }
 ],
 "metadata": {
  "kernelspec": {
   "display_name": "Python 3 (ipykernel)",
   "language": "python",
   "name": "python3"
  },
  "language_info": {
   "codemirror_mode": {
    "name": "ipython",
    "version": 3
   },
   "file_extension": ".py",
   "mimetype": "text/x-python",
   "name": "python",
   "nbconvert_exporter": "python",
   "pygments_lexer": "ipython3",
   "version": "3.11.5"
  }
 },
 "nbformat": 4,
 "nbformat_minor": 5
}
